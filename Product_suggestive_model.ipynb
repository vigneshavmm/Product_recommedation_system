{
  "nbformat": 4,
  "nbformat_minor": 0,
  "metadata": {
    "colab": {
      "provenance": [],
      "authorship_tag": "ABX9TyOdMjjfMq7yAphucYOe3blm",
      "include_colab_link": true
    },
    "kernelspec": {
      "name": "python3",
      "display_name": "Python 3"
    },
    "language_info": {
      "name": "python"
    }
  },
  "cells": [
    {
      "cell_type": "markdown",
      "metadata": {
        "id": "view-in-github",
        "colab_type": "text"
      },
      "source": [
        "<a href=\"https://colab.research.google.com/github/vigneshavmm/Product_recommedation_system/blob/main/Product_suggestive_model.ipynb\" target=\"_parent\"><img src=\"https://colab.research.google.com/assets/colab-badge.svg\" alt=\"Open In Colab\"/></a>"
      ]
    },
    {
      "cell_type": "code",
      "source": [
        "from pandas import pandas as pd\n",
        "import numpy as np"
      ],
      "metadata": {
        "id": "cy9QSjcuOq7Q"
      },
      "execution_count": 12,
      "outputs": []
    },
    {
      "cell_type": "code",
      "source": [
        "\n",
        "# code for jupyter notebook cell in full width\n",
        "from IPython.display import display, HTML\n",
        "display(HTML(\"<style>.container { width:100% !important; }</style>\"))\n",
        "pd.set_option('display.max_colwidth', None)"
      ],
      "metadata": {
        "colab": {
          "base_uri": "https://localhost:8080/",
          "height": 16
        },
        "id": "_Wf-pZvDOu4o",
        "outputId": "c932c008-7acd-4f2e-a9b4-45355b8826e2"
      },
      "execution_count": 13,
      "outputs": [
        {
          "output_type": "display_data",
          "data": {
            "text/plain": [
              "<IPython.core.display.HTML object>"
            ],
            "text/html": [
              "<style>.container { width:100% !important; }</style>"
            ]
          },
          "metadata": {}
        }
      ]
    },
    {
      "cell_type": "code",
      "source": [
        "\n",
        "# ## Read and process Data\n",
        "\n",
        "df = pd.read_csv(\"amazon.csv\")"
      ],
      "metadata": {
        "id": "vbPR1IenO5gk"
      },
      "execution_count": 14,
      "outputs": []
    },
    {
      "cell_type": "code",
      "source": [
        "\n",
        "def preprocess_text(text):\n",
        "    return text.lower()\n",
        "\n",
        "\n",
        "df['product_name'] = df['product_name'].apply(preprocess_text)\n",
        "df['category'] = df['category'].apply(preprocess_text)\n",
        "df['about_product'] = df['about_product'].apply(preprocess_text)\n",
        "\n",
        "# Combine product name and category text\n",
        "df['combined_text'] = df['product_name'] + ' ' + df['category'] + ' ' + df['about_product']\n",
        "\n",
        "\n",
        "# Keep only two columns\n",
        "df = df[['product_name','category','about_product','combined_text']]"
      ],
      "metadata": {
        "id": "uLsQh9jpO89u"
      },
      "execution_count": 15,
      "outputs": []
    },
    {
      "cell_type": "markdown",
      "source": [
        " # **Sentence Transformers**\n",
        "\n",
        "### Sentence Transformer can be used to embed sentences into a vector space.\n",
        "\n",
        "### This is useful for tasks such as text classification or semantic similarity where sentences need to be compared.\n",
        "\n",
        "### Sentence Transformers can be used to compute the similarity between two sentences.\n",
        "\n",
        "### This is useful for tasks such as information retrieval, where you need to find documents similar to a given query.\n",
        "\n",
        "### Sentence Transformers can be used to perform semantic searches.\n",
        "### This is useful for tasks such as question answering, where you must find documents containing answers to a given question.\n",
        "\n",
        "### A sentence Transformer can be used to cluster documents.\n",
        "### This is useful for tasks such as topic modeling or document classification, where you need to group documents by topic or category.\n",
        "\n",
        "\n",
        "\n"
      ],
      "metadata": {
        "id": "WIuTU_OpPVow"
      }
    },
    {
      "cell_type": "code",
      "source": [
        "pip install sentence-transformers"
      ],
      "metadata": {
        "colab": {
          "base_uri": "https://localhost:8080/"
        },
        "id": "hyD2SmAhPDKz",
        "outputId": "cd56eda3-e24f-42eb-caa6-db3f0bd54829"
      },
      "execution_count": 16,
      "outputs": [
        {
          "output_type": "stream",
          "name": "stdout",
          "text": [
            "Requirement already satisfied: sentence-transformers in /usr/local/lib/python3.10/dist-packages (2.3.1)\n",
            "Requirement already satisfied: transformers<5.0.0,>=4.32.0 in /usr/local/lib/python3.10/dist-packages (from sentence-transformers) (4.35.2)\n",
            "Requirement already satisfied: tqdm in /usr/local/lib/python3.10/dist-packages (from sentence-transformers) (4.66.1)\n",
            "Requirement already satisfied: torch>=1.11.0 in /usr/local/lib/python3.10/dist-packages (from sentence-transformers) (2.1.0+cu121)\n",
            "Requirement already satisfied: numpy in /usr/local/lib/python3.10/dist-packages (from sentence-transformers) (1.23.5)\n",
            "Requirement already satisfied: scikit-learn in /usr/local/lib/python3.10/dist-packages (from sentence-transformers) (1.2.2)\n",
            "Requirement already satisfied: scipy in /usr/local/lib/python3.10/dist-packages (from sentence-transformers) (1.11.4)\n",
            "Requirement already satisfied: nltk in /usr/local/lib/python3.10/dist-packages (from sentence-transformers) (3.8.1)\n",
            "Requirement already satisfied: sentencepiece in /usr/local/lib/python3.10/dist-packages (from sentence-transformers) (0.1.99)\n",
            "Requirement already satisfied: huggingface-hub>=0.15.1 in /usr/local/lib/python3.10/dist-packages (from sentence-transformers) (0.20.3)\n",
            "Requirement already satisfied: Pillow in /usr/local/lib/python3.10/dist-packages (from sentence-transformers) (9.4.0)\n",
            "Requirement already satisfied: filelock in /usr/local/lib/python3.10/dist-packages (from huggingface-hub>=0.15.1->sentence-transformers) (3.13.1)\n",
            "Requirement already satisfied: fsspec>=2023.5.0 in /usr/local/lib/python3.10/dist-packages (from huggingface-hub>=0.15.1->sentence-transformers) (2023.6.0)\n",
            "Requirement already satisfied: requests in /usr/local/lib/python3.10/dist-packages (from huggingface-hub>=0.15.1->sentence-transformers) (2.31.0)\n",
            "Requirement already satisfied: pyyaml>=5.1 in /usr/local/lib/python3.10/dist-packages (from huggingface-hub>=0.15.1->sentence-transformers) (6.0.1)\n",
            "Requirement already satisfied: typing-extensions>=3.7.4.3 in /usr/local/lib/python3.10/dist-packages (from huggingface-hub>=0.15.1->sentence-transformers) (4.9.0)\n",
            "Requirement already satisfied: packaging>=20.9 in /usr/local/lib/python3.10/dist-packages (from huggingface-hub>=0.15.1->sentence-transformers) (23.2)\n",
            "Requirement already satisfied: sympy in /usr/local/lib/python3.10/dist-packages (from torch>=1.11.0->sentence-transformers) (1.12)\n",
            "Requirement already satisfied: networkx in /usr/local/lib/python3.10/dist-packages (from torch>=1.11.0->sentence-transformers) (3.2.1)\n",
            "Requirement already satisfied: jinja2 in /usr/local/lib/python3.10/dist-packages (from torch>=1.11.0->sentence-transformers) (3.1.3)\n",
            "Requirement already satisfied: triton==2.1.0 in /usr/local/lib/python3.10/dist-packages (from torch>=1.11.0->sentence-transformers) (2.1.0)\n",
            "Requirement already satisfied: regex!=2019.12.17 in /usr/local/lib/python3.10/dist-packages (from transformers<5.0.0,>=4.32.0->sentence-transformers) (2023.12.25)\n",
            "Requirement already satisfied: tokenizers<0.19,>=0.14 in /usr/local/lib/python3.10/dist-packages (from transformers<5.0.0,>=4.32.0->sentence-transformers) (0.15.1)\n",
            "Requirement already satisfied: safetensors>=0.3.1 in /usr/local/lib/python3.10/dist-packages (from transformers<5.0.0,>=4.32.0->sentence-transformers) (0.4.2)\n",
            "Requirement already satisfied: click in /usr/local/lib/python3.10/dist-packages (from nltk->sentence-transformers) (8.1.7)\n",
            "Requirement already satisfied: joblib in /usr/local/lib/python3.10/dist-packages (from nltk->sentence-transformers) (1.3.2)\n",
            "Requirement already satisfied: threadpoolctl>=2.0.0 in /usr/local/lib/python3.10/dist-packages (from scikit-learn->sentence-transformers) (3.2.0)\n",
            "Requirement already satisfied: MarkupSafe>=2.0 in /usr/local/lib/python3.10/dist-packages (from jinja2->torch>=1.11.0->sentence-transformers) (2.1.5)\n",
            "Requirement already satisfied: charset-normalizer<4,>=2 in /usr/local/lib/python3.10/dist-packages (from requests->huggingface-hub>=0.15.1->sentence-transformers) (3.3.2)\n",
            "Requirement already satisfied: idna<4,>=2.5 in /usr/local/lib/python3.10/dist-packages (from requests->huggingface-hub>=0.15.1->sentence-transformers) (3.6)\n",
            "Requirement already satisfied: urllib3<3,>=1.21.1 in /usr/local/lib/python3.10/dist-packages (from requests->huggingface-hub>=0.15.1->sentence-transformers) (2.0.7)\n",
            "Requirement already satisfied: certifi>=2017.4.17 in /usr/local/lib/python3.10/dist-packages (from requests->huggingface-hub>=0.15.1->sentence-transformers) (2024.2.2)\n",
            "Requirement already satisfied: mpmath>=0.19 in /usr/local/lib/python3.10/dist-packages (from sympy->torch>=1.11.0->sentence-transformers) (1.3.0)\n"
          ]
        }
      ]
    },
    {
      "cell_type": "code",
      "source": [
        "\n",
        "#pip install sentence-transformers\n",
        "\n",
        "from sentence_transformers import SentenceTransformer\n",
        "# Load a pre-trained sentence transformer model (e.g., 'bert-base-nli-mean-tokens')\n",
        "model = SentenceTransformer('bert-base-nli-mean-tokens')\n"
      ],
      "metadata": {
        "id": "siOPzNWpPI8m"
      },
      "execution_count": 17,
      "outputs": []
    },
    {
      "cell_type": "markdown",
      "source": [
        "\n",
        "\n",
        "# Embeddings\n",
        "\n",
        "### In natural language processing and machine learning, \"embedding\" refers to the process of converting words, sentences,\n",
        "### or entire documents into numerical vectors or representations."
      ],
      "metadata": {
        "id": "si3cdTG5QH5p"
      }
    },
    {
      "cell_type": "code",
      "source": [
        "# Encode the combined text into embeddings\n",
        "df['combined_embeddings'] = df['combined_text'].apply(lambda x: model.encode(x))"
      ],
      "metadata": {
        "id": "HD4SXTjAQQlz"
      },
      "execution_count": null,
      "outputs": []
    },
    {
      "cell_type": "markdown",
      "source": [
        "\n",
        "### Save the DataFrame with embeddings to a CSV file\n",
        "# df.to_csv('data_with_embeddings.csv', index=False)\n",
        "###df.to_csv('embeddings.csv', index=False, float_format='%.10f')\n",
        "\n",
        "### Load the DataFrame with embeddings from the CSV file\n",
        "# df = pd.read_csv('data_with_embeddings.csv')"
      ],
      "metadata": {
        "id": "4VHcu6kiQZZP"
      }
    },
    {
      "cell_type": "code",
      "source": [
        "\n",
        "# ## Cosine similarity is a metric used to measure the similarity of two vectors.\n",
        "\n",
        "from sentence_transformers import util\n"
      ],
      "metadata": {
        "id": "qs4Dn2giQqnf"
      },
      "execution_count": null,
      "outputs": []
    },
    {
      "cell_type": "code",
      "source": [
        "\n",
        "# Function to get similar items based on combined name and category\n",
        "def get_similar_items(combined_input, df, top_n=5):\n",
        "\n",
        "    combined_embedding = model.encode(combined_input)\n",
        "\n",
        "    # Calculate cosine similarity between the combined input and all other combined texts\n",
        "    similarities = util.pytorch_cos_sim(combined_embedding, df['combined_embeddings'])\n",
        "\n",
        "    #print(similarities)\n",
        "    # Get the indices of top N similar items\n",
        "    similar_indices = similarities.argsort(descending=True, axis=1)[0][:top_n]\n",
        "    #print(similar_indices)\n",
        "    # Retrieve the similar items from the DataFrame\n",
        "    similar_items_df = df.iloc[similar_indices][['product_name', 'category', 'about_product']]\n",
        "    #print(similar_items)\n",
        "    return similar_items_df"
      ],
      "metadata": {
        "id": "CoUc_m7UQuiq"
      },
      "execution_count": null,
      "outputs": []
    },
    {
      "cell_type": "code",
      "source": [
        "\n",
        "# # Making Simillar Product Serach based on Input\n",
        "\n",
        "\n",
        "# Get similar items based on combined name and category\n",
        "product_info_to_search = \"  Usb Cable  1 meter\"\n",
        "\n",
        "similar_items = get_similar_items(product_info_to_search, df)"
      ],
      "metadata": {
        "id": "83rc7C8zQ5tB"
      },
      "execution_count": null,
      "outputs": []
    },
    {
      "cell_type": "code",
      "execution_count": null,
      "metadata": {
        "id": "opRIhW_KOaqM"
      },
      "outputs": [],
      "source": [
        "# Print the formatted output\n",
        "print(f\"Product: {product_info_to_search}\")\n",
        "print(\"\\nSimilar Products:\")\n",
        "for idx, row in similar_items.iterrows():\n",
        "    print(f\"Product : {row['product_name']}\")\n"
      ]
    }
  ]
}